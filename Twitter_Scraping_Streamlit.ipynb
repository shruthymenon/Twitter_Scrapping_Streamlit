{
 "cells": [
  {
   "cell_type": "markdown",
   "id": "a7540c6c",
   "metadata": {},
   "source": [
    "# Twitter_Scraping_Streamlit"
   ]
  },
  {
   "cell_type": "code",
   "execution_count": 67,
   "id": "e19de044",
   "metadata": {},
   "outputs": [
    {
     "name": "stdout",
     "output_type": "stream",
     "text": [
      "Requirement already satisfied: pandas in c:\\users\\shruthy\\anaconda3\\lib\\site-packages (1.4.4)\n",
      "Requirement already satisfied: python-dateutil>=2.8.1 in c:\\users\\shruthy\\anaconda3\\lib\\site-packages (from pandas) (2.8.2)\n",
      "Requirement already satisfied: pytz>=2020.1 in c:\\users\\shruthy\\anaconda3\\lib\\site-packages (from pandas) (2022.1)\n",
      "Requirement already satisfied: numpy>=1.18.5 in c:\\users\\shruthy\\anaconda3\\lib\\site-packages (from pandas) (1.21.5)\n",
      "Requirement already satisfied: six>=1.5 in c:\\users\\shruthy\\anaconda3\\lib\\site-packages (from python-dateutil>=2.8.1->pandas) (1.16.0)\n",
      "Requirement already satisfied: snscrape in c:\\users\\shruthy\\anaconda3\\lib\\site-packages (0.5.0.20230113)\n",
      "Requirement already satisfied: lxml in c:\\users\\shruthy\\anaconda3\\lib\\site-packages (from snscrape) (4.9.1)\n",
      "Requirement already satisfied: requests[socks] in c:\\users\\shruthy\\anaconda3\\lib\\site-packages (from snscrape) (2.28.1)\n",
      "Requirement already satisfied: filelock in c:\\users\\shruthy\\anaconda3\\lib\\site-packages (from snscrape) (3.6.0)\n",
      "Requirement already satisfied: beautifulsoup4 in c:\\users\\shruthy\\anaconda3\\lib\\site-packages (from snscrape) (4.11.1)\n",
      "Requirement already satisfied: soupsieve>1.2 in c:\\users\\shruthy\\anaconda3\\lib\\site-packages (from beautifulsoup4->snscrape) (2.3.1)\n",
      "Requirement already satisfied: charset-normalizer<3,>=2 in c:\\users\\shruthy\\anaconda3\\lib\\site-packages (from requests[socks]->snscrape) (2.0.4)\n",
      "Requirement already satisfied: certifi>=2017.4.17 in c:\\users\\shruthy\\anaconda3\\lib\\site-packages (from requests[socks]->snscrape) (2022.9.14)\n",
      "Requirement already satisfied: urllib3<1.27,>=1.21.1 in c:\\users\\shruthy\\anaconda3\\lib\\site-packages (from requests[socks]->snscrape) (1.26.11)\n",
      "Requirement already satisfied: idna<4,>=2.5 in c:\\users\\shruthy\\anaconda3\\lib\\site-packages (from requests[socks]->snscrape) (3.3)\n",
      "Requirement already satisfied: PySocks!=1.5.7,>=1.5.6 in c:\\users\\shruthy\\anaconda3\\lib\\site-packages (from requests[socks]->snscrape) (1.7.1)\n",
      "Requirement already satisfied: streamlit in c:\\users\\shruthy\\anaconda3\\lib\\site-packages (1.17.0)\n",
      "Requirement already satisfied: rich>=10.11.0 in c:\\users\\shruthy\\anaconda3\\lib\\site-packages (from streamlit) (13.2.0)\n",
      "Requirement already satisfied: typing-extensions>=3.10.0.0 in c:\\users\\shruthy\\anaconda3\\lib\\site-packages (from streamlit) (4.3.0)\n",
      "Requirement already satisfied: semver in c:\\users\\shruthy\\anaconda3\\lib\\site-packages (from streamlit) (2.13.0)\n",
      "Requirement already satisfied: altair>=3.2.0 in c:\\users\\shruthy\\anaconda3\\lib\\site-packages (from streamlit) (4.2.0)\n",
      "Requirement already satisfied: pydeck>=0.1.dev5 in c:\\users\\shruthy\\anaconda3\\lib\\site-packages (from streamlit) (0.8.0)\n",
      "Requirement already satisfied: python-dateutil in c:\\users\\shruthy\\anaconda3\\lib\\site-packages (from streamlit) (2.8.2)\n",
      "Requirement already satisfied: tornado>=5.0 in c:\\users\\shruthy\\anaconda3\\lib\\site-packages (from streamlit) (6.1)\n",
      "Requirement already satisfied: pandas>=0.21.0 in c:\\users\\shruthy\\anaconda3\\lib\\site-packages (from streamlit) (1.4.4)\n",
      "Requirement already satisfied: requests>=2.4 in c:\\users\\shruthy\\anaconda3\\lib\\site-packages (from streamlit) (2.28.1)\n",
      "Requirement already satisfied: pillow>=6.2.0 in c:\\users\\shruthy\\anaconda3\\lib\\site-packages (from streamlit) (9.2.0)\n",
      "Requirement already satisfied: numpy in c:\\users\\shruthy\\anaconda3\\lib\\site-packages (from streamlit) (1.21.5)\n",
      "Requirement already satisfied: watchdog in c:\\users\\shruthy\\anaconda3\\lib\\site-packages (from streamlit) (2.1.6)\n",
      "Requirement already satisfied: protobuf<4,>=3.12 in c:\\users\\shruthy\\anaconda3\\lib\\site-packages (from streamlit) (3.20.3)\n",
      "Requirement already satisfied: pympler>=0.9 in c:\\users\\shruthy\\anaconda3\\lib\\site-packages (from streamlit) (1.0.1)\n",
      "Requirement already satisfied: pyarrow>=4.0 in c:\\users\\shruthy\\anaconda3\\lib\\site-packages (from streamlit) (10.0.1)\n",
      "Requirement already satisfied: blinker>=1.0.0 in c:\\users\\shruthy\\anaconda3\\lib\\site-packages (from streamlit) (1.5)\n",
      "Requirement already satisfied: validators>=0.2 in c:\\users\\shruthy\\anaconda3\\lib\\site-packages (from streamlit) (0.20.0)\n",
      "Requirement already satisfied: toml in c:\\users\\shruthy\\anaconda3\\lib\\site-packages (from streamlit) (0.10.2)\n",
      "Requirement already satisfied: click>=7.0 in c:\\users\\shruthy\\anaconda3\\lib\\site-packages (from streamlit) (8.0.4)\n",
      "Requirement already satisfied: importlib-metadata>=1.4 in c:\\users\\shruthy\\anaconda3\\lib\\site-packages (from streamlit) (4.11.3)\n",
      "Requirement already satisfied: packaging>=14.1 in c:\\users\\shruthy\\anaconda3\\lib\\site-packages (from streamlit) (21.3)\n",
      "Requirement already satisfied: gitpython!=3.1.19 in c:\\users\\shruthy\\anaconda3\\lib\\site-packages (from streamlit) (3.1.30)\n",
      "Requirement already satisfied: cachetools>=4.0 in c:\\users\\shruthy\\anaconda3\\lib\\site-packages (from streamlit) (5.3.0)\n",
      "Requirement already satisfied: tzlocal>=1.1 in c:\\users\\shruthy\\anaconda3\\lib\\site-packages (from streamlit) (4.2)\n",
      "Requirement already satisfied: toolz in c:\\users\\shruthy\\anaconda3\\lib\\site-packages (from altair>=3.2.0->streamlit) (0.11.2)\n",
      "Requirement already satisfied: jinja2 in c:\\users\\shruthy\\anaconda3\\lib\\site-packages (from altair>=3.2.0->streamlit) (2.11.3)\n",
      "Requirement already satisfied: jsonschema>=3.0 in c:\\users\\shruthy\\anaconda3\\lib\\site-packages (from altair>=3.2.0->streamlit) (4.16.0)\n",
      "Requirement already satisfied: entrypoints in c:\\users\\shruthy\\anaconda3\\lib\\site-packages (from altair>=3.2.0->streamlit) (0.4)\n",
      "Requirement already satisfied: colorama in c:\\users\\shruthy\\anaconda3\\lib\\site-packages (from click>=7.0->streamlit) (0.4.5)\n",
      "Requirement already satisfied: gitdb<5,>=4.0.1 in c:\\users\\shruthy\\anaconda3\\lib\\site-packages (from gitpython!=3.1.19->streamlit) (4.0.10)\n",
      "Requirement already satisfied: zipp>=0.5 in c:\\users\\shruthy\\anaconda3\\lib\\site-packages (from importlib-metadata>=1.4->streamlit) (3.8.0)\n",
      "Requirement already satisfied: pyparsing!=3.0.5,>=2.0.2 in c:\\users\\shruthy\\anaconda3\\lib\\site-packages (from packaging>=14.1->streamlit) (3.0.9)\n",
      "Requirement already satisfied: pytz>=2020.1 in c:\\users\\shruthy\\anaconda3\\lib\\site-packages (from pandas>=0.21.0->streamlit) (2022.1)\n",
      "Requirement already satisfied: six>=1.5 in c:\\users\\shruthy\\anaconda3\\lib\\site-packages (from python-dateutil->streamlit) (1.16.0)\n",
      "Requirement already satisfied: idna<4,>=2.5 in c:\\users\\shruthy\\anaconda3\\lib\\site-packages (from requests>=2.4->streamlit) (3.3)\n",
      "Requirement already satisfied: urllib3<1.27,>=1.21.1 in c:\\users\\shruthy\\anaconda3\\lib\\site-packages (from requests>=2.4->streamlit) (1.26.11)\n",
      "Requirement already satisfied: charset-normalizer<3,>=2 in c:\\users\\shruthy\\anaconda3\\lib\\site-packages (from requests>=2.4->streamlit) (2.0.4)\n",
      "Requirement already satisfied: certifi>=2017.4.17 in c:\\users\\shruthy\\anaconda3\\lib\\site-packages (from requests>=2.4->streamlit) (2022.9.14)\n",
      "Requirement already satisfied: markdown-it-py<3.0.0,>=2.1.0 in c:\\users\\shruthy\\anaconda3\\lib\\site-packages (from rich>=10.11.0->streamlit) (2.1.0)\n",
      "Requirement already satisfied: pygments<3.0.0,>=2.6.0 in c:\\users\\shruthy\\anaconda3\\lib\\site-packages (from rich>=10.11.0->streamlit) (2.11.2)\n",
      "Requirement already satisfied: pytz-deprecation-shim in c:\\users\\shruthy\\anaconda3\\lib\\site-packages (from tzlocal>=1.1->streamlit) (0.1.0.post0)\n",
      "Requirement already satisfied: tzdata in c:\\users\\shruthy\\anaconda3\\lib\\site-packages (from tzlocal>=1.1->streamlit) (2022.7)\n",
      "Requirement already satisfied: decorator>=3.4.0 in c:\\users\\shruthy\\anaconda3\\lib\\site-packages (from validators>=0.2->streamlit) (5.1.1)\n",
      "Requirement already satisfied: smmap<6,>=3.0.1 in c:\\users\\shruthy\\anaconda3\\lib\\site-packages (from gitdb<5,>=4.0.1->gitpython!=3.1.19->streamlit) (5.0.0)\n",
      "Requirement already satisfied: MarkupSafe>=0.23 in c:\\users\\shruthy\\anaconda3\\lib\\site-packages (from jinja2->altair>=3.2.0->streamlit) (2.0.1)\n",
      "Requirement already satisfied: pyrsistent!=0.17.0,!=0.17.1,!=0.17.2,>=0.14.0 in c:\\users\\shruthy\\anaconda3\\lib\\site-packages (from jsonschema>=3.0->altair>=3.2.0->streamlit) (0.18.0)\n",
      "Requirement already satisfied: attrs>=17.4.0 in c:\\users\\shruthy\\anaconda3\\lib\\site-packages (from jsonschema>=3.0->altair>=3.2.0->streamlit) (21.4.0)\n",
      "Requirement already satisfied: mdurl~=0.1 in c:\\users\\shruthy\\anaconda3\\lib\\site-packages (from markdown-it-py<3.0.0,>=2.1.0->rich>=10.11.0->streamlit) (0.1.2)\n"
     ]
    }
   ],
   "source": [
    "#download the essential libraries\n",
    "!pip install pandas\n",
    "!pip install snscrape\n",
    "!pip install streamlit"
   ]
  },
  {
   "cell_type": "code",
   "execution_count": 68,
   "id": "2c86c460",
   "metadata": {},
   "outputs": [],
   "source": [
    "# importing the libraries\n",
    "import pandas as pd\n",
    "import snscrape.modules.twitter as sntwitter\n",
    "from pymongo import MongoClient\n",
    "import streamlit as st\n",
    "import datetime"
   ]
  },
  {
   "cell_type": "markdown",
   "id": "1f5b8dbf",
   "metadata": {},
   "source": [
    "# Scrapping Tweets From Twitter Using Scscrape Twitter Module\n"
   ]
  },
  {
   "cell_type": "code",
   "execution_count": 69,
   "id": "0ecadf5d",
   "metadata": {},
   "outputs": [],
   "source": [
    "def twitter_scraper(hastag, limit, start_date, end_date):\n",
    "    tweet_list = []\n",
    "    for i,tweet in enumerate(sntwitter.TwitterSearchScraper(f'{hastag} since:{start_date} until:{end_date}').get_items()):\n",
    "        data = [(tweet.date,tweet.user.username,tweet.rawContent,tweet.lang,tweet.viewCount,tweet.replyCount,tweet.likeCount,tweet.retweetCount,)]\n",
    "        tweet_list.append(data)\n",
    "        if i > limit:\n",
    "            break\n",
    "            \n",
    "    return tweet_list"
   ]
  },
  {
   "cell_type": "code",
   "execution_count": 70,
   "id": "4bfe8f12",
   "metadata": {},
   "outputs": [],
   "source": [
    "def create_DataFrame(tweet_list):\n",
    "    df = pd.DataFrame(tweet_list, columns = [('Date Time','Username','Tweet Content','Tweet Language','Tweet Views',\n",
    "                                                      'Reply Count','like Count','Retweet Count')])\n",
    "    return df     "
   ]
  },
  {
   "cell_type": "markdown",
   "id": "94d41fc1",
   "metadata": {},
   "source": [
    "# Streamlit"
   ]
  },
  {
   "cell_type": "code",
   "execution_count": 71,
   "id": "3398838d",
   "metadata": {},
   "outputs": [],
   "source": [
    "st.image(\"https://tse4.mm.bing.net/th?id=OIP.lRrnOPsaYHpdvGwOiRNBNQHaGP&pid=Api&P=0\")\n",
    "st.title(\"Twitter Scrapping\")\n",
    "#Input from user\n",
    "hastag=st.text_input(\"Please enter your Hastag/Keyword\")\n",
    "#starting date\n",
    "Starting_date=st.date_input(\"Enter your starting date\")\n",
    "#ending date\n",
    "Ending_date=st.date_input(\"Enter your ending date\")\n",
    "#limit\n",
    "Limit=st.number_input(\"Enter the tweet limit\")\n",
    "\n",
    "\n"
   ]
  },
  {
   "cell_type": "code",
   "execution_count": 72,
   "id": "54ea234e",
   "metadata": {},
   "outputs": [],
   "source": [
    "# Scraping the data and displaying it\n",
    "if st.button(\"SCRAPE\"):\n",
    "    Tweets = scraped_data(hastag, starting_date,Ending_date,Limit)\n",
    "    st.dataframe(Tweets)"
   ]
  },
  {
   "cell_type": "code",
   "execution_count": 73,
   "id": "e6e22a24",
   "metadata": {},
   "outputs": [],
   "source": [
    "#Uploading to MongoDB\n",
    "if st.button(\"Store the scrapped_data in a data_base\"):\n",
    "   client = MongoClient(\"mongodb://localhost:27017\")\n",
    "   db = client[\"Project\"]\n",
    "   new_collection = db[\"scrapped_data\"]\n",
    "   import json\n",
    "   json_file = df.to_json()\n",
    "   file = json.loads(json_file)\n",
    "   for i in json.loads(json_file):\n",
    "     file = json.loads(json_file)\n",
    "     new_collection.insert_one(file)\n"
   ]
  },
  {
   "cell_type": "code",
   "execution_count": 74,
   "id": "2405b040",
   "metadata": {},
   "outputs": [],
   "source": [
    "if st.button(\"Download as CSV\"):\n",
    "    Tweets = scraped_data(hastag, starting_date,Ending_date,Limit)\n",
    "    df=create_dataframe(Tweets)\n",
    "    csv = df.to_csv()\n",
    "    st.download_button(\"Download data as CSV\",\n",
    "                      csv,\n",
    "                      file_name='large_df.csv'\n",
    "                      )\n",
    "    \n",
    "\n"
   ]
  },
  {
   "cell_type": "code",
   "execution_count": 76,
   "id": "5b03a87a",
   "metadata": {},
   "outputs": [],
   "source": [
    "if st.button(\"Download as JSON\"):\n",
    "    Tweets = scraped_data(hastag, starting_date,Ending_date,Limit)\n",
    "    df=create_dataframe(Tweets)\n",
    "    csv = df.to_json()\n",
    "    st.download_button(\"Download data as json\",\n",
    "                      csv,\n",
    "                      file_name='large_df.json'\n",
    "                      )\n",
    "    "
   ]
  },
  {
   "cell_type": "code",
   "execution_count": null,
   "id": "00d6bdc6",
   "metadata": {},
   "outputs": [],
   "source": []
  }
 ],
 "metadata": {
  "kernelspec": {
   "display_name": "Python 3 (ipykernel)",
   "language": "python",
   "name": "python3"
  },
  "language_info": {
   "codemirror_mode": {
    "name": "ipython",
    "version": 3
   },
   "file_extension": ".py",
   "mimetype": "text/x-python",
   "name": "python",
   "nbconvert_exporter": "python",
   "pygments_lexer": "ipython3",
   "version": "3.9.13"
  }
 },
 "nbformat": 4,
 "nbformat_minor": 5
}
